{
 "cells": [
  {
   "cell_type": "code",
   "execution_count": 1,
   "metadata": {},
   "outputs": [],
   "source": [
    "# Store the API key as a string - according to PEP8, constants are always named in all upper case\n",
    "API_KEY = 'H26L94RPkvYokKz8MSVy'"
   ]
  },
  {
   "cell_type": "code",
   "execution_count": 2,
   "metadata": {},
   "outputs": [],
   "source": [
    "# First, import the relevant modules\n",
    "import requests"
   ]
  },
  {
   "cell_type": "code",
   "execution_count": 3,
   "metadata": {},
   "outputs": [],
   "source": [
    "# Now, call the Quandl API and pull out a small sample of the data (only one day) to get a glimpse\n",
    "# into the JSON structure that will be returned\n",
    "url = 'https://www.quandl.com/api/v3/datasets/WIKI/FB/data.json?order=asc&rows=2&api_key=H26L94RPkvYokKz8MSVy'\n",
    "r = requests.get(url)\n",
    "json_data = r.json()"
   ]
  },
  {
   "cell_type": "code",
   "execution_count": 4,
   "metadata": {},
   "outputs": [
    {
     "name": "stdout",
     "output_type": "stream",
     "text": [
      "{'dataset_data': {'limit': 2, 'transform': None, 'column_index': None, 'column_names': ['Date', 'Open', 'High', 'Low', 'Close', 'Volume', 'Ex-Dividend', 'Split Ratio', 'Adj. Open', 'Adj. High', 'Adj. Low', 'Adj. Close', 'Adj. Volume'], 'start_date': '2012-05-18', 'end_date': '2018-03-27', 'frequency': 'daily', 'data': [['2018-03-26', 160.82, 161.1, 149.02, 160.06, 125438294.0, 0.0, 1.0, 160.82, 161.1, 149.02, 160.06, 125438294.0], ['2018-03-27', 156.31, 162.85, 150.75, 152.19, 76787884.0, 0.0, 1.0, 156.31, 162.85, 150.75, 152.19, 76787884.0]], 'collapse': None, 'order': 'asc'}}\n"
     ]
    }
   ],
   "source": [
    "# Inspect the JSON structure of the object you created, and take note of how nested it is,\n",
    "# as well as the overall structure\n",
    "print(json_data)"
   ]
  },
  {
   "cell_type": "code",
   "execution_count": 5,
   "metadata": {},
   "outputs": [
    {
     "name": "stdout",
     "output_type": "stream",
     "text": [
      "-------------------------------------------------------------------------------------\n",
      "-Important Notice: All the values I used here for this tasks are NOT adjusted values-\n",
      "-------------------------------------------------------------------------------------\n",
      "Highest opening price : 183.51 \t Lowest opening price : 116.03\n",
      "The largest price change in one day is 8.98\n",
      "The largest price change between two days is 7.67\n",
      "The average daily trading volume during this year is 16468073.9\n",
      "The median trading volume during this year is 14557895.0\n"
     ]
    }
   ],
   "source": [
    "url_mp = 'https://www.quandl.com/api/v3/datasets/WIKI/FB/data.json?order=asc&start_date=2017-01-01&end_date=2017-12-31&ticker=AFX_X&api_key=H26L94RPkvYokKz8MSVy'\n",
    "r_mp = requests.get(url_mp)\n",
    "json_data_mp = (r_mp.json())\n",
    "column_name = json_data_mp['dataset_data']['column_names']\n",
    "difference = []\n",
    "data_lenth = len(json_data_mp['dataset_data']['data'])\n",
    "column_count = len(column_name)\n",
    "dic_json_data = {}\n",
    "change_incp_twoday = 0\n",
    "list_change_incp_twoday = [0,]    #prepared '0' to prevent the empty space in dic_json_data['CP_Change']\n",
    "i=0\n",
    "#print(json_data_mp)\n",
    "#----------------------------------------------------------------------------------------------------------\n",
    "\n",
    "for column in column_name:      #merging values in same categories in order to make a table-like dictionary\n",
    "    list_json_data = []\n",
    "    \n",
    "    for j in range(data_lenth):\n",
    "        list_json_data.append(json_data_mp['dataset_data']['data'][j][i])\n",
    "        \n",
    "           \n",
    "        if (j > 0) & (column == 'Close'):        #to get the largest change between any two days (based on Closing Price), task #5\n",
    "            change_incp_twoday = list_json_data[j-1] - list_json_data[j]\n",
    "            list_change_incp_twoday.append(change_incp_twoday)\n",
    "            \n",
    "            \n",
    "    dic_json_data[column] = list_json_data\n",
    "    i += 1\n",
    "    \n",
    "#----------------------------------------------------------------------------------------------------------\n",
    "\n",
    "zip_high_low = zip(dic_json_data['High'], dic_json_data['Low'])    #subtract two lists, 'How' and 'Low,' to get the answer for task #4\n",
    "for high, low in zip_high_low:\n",
    "    difference.append(high - low)\n",
    "dic_json_data['Max_DeltaHL'] = difference\n",
    "\n",
    "#----------------------------------------------------------------------------------------------------------\n",
    "\n",
    "dic_json_data['CP_Change'] = list_change_incp_twoday      #adding a new key and values to the dictionary\n",
    "\n",
    "#----------------------------------------------------------------------------------------------------------\n",
    "\n",
    "def average(vlist):\n",
    "    mean = sum(vlist) / len(vlist)       #a fuction for the average of dic_json_data['Volume'], task #6\n",
    "    return mean\n",
    "\n",
    "#----------------------------------------------------------------------------------------------------------    \n",
    "\n",
    "def median(value):                       #a fuction to calcaulate the median trading volume, optional task #7\n",
    "    end_point = len(value)\n",
    "    value.sort()\n",
    "    index = round((0+end_point)/2)\n",
    "    if type(value) != list:\n",
    "        return 'error: it is not list object'\n",
    "    elif end_point%2 == 0:\n",
    "        return value[index]\n",
    "    else:\n",
    "        med = (value[index-1]+value[index])/2\n",
    "        return med\n",
    "record = {}\n",
    "#----------------------------------------------------------------------------------------------------------    \n",
    "\n",
    "#for i in column_name[1:]:                           #just for checking missing values\n",
    "#    counts = 0\n",
    "#    for j in range(data_lenth): \n",
    "#        if (dic_json_data[i][j] == 0) | (type(dic_json_data[i][j]) == str):\n",
    "#            counts += 1\n",
    "#    record[i] = counts\n",
    "\n",
    "#print(record)\n",
    "#print(dic_json_data['Ex-Dividend'])\n",
    "\n",
    "\n",
    "#----------------------------------------------------------------------------------------------------------    \n",
    "#print(dic_json_data)\n",
    "print('-------------------------------------------------------------------------------------')    \n",
    "print('-Important Notice: All the values I used here for this tasks are NOT adjusted values-')\n",
    "print('-------------------------------------------------------------------------------------')    \n",
    "\n",
    "print('Highest opening price : %.2f \\t Lowest opening price : %.2f' %(max(dic_json_data['Open']), min(dic_json_data['Open']))) #---task #3\n",
    "print('The largest price change in one day is %.2f' %(max(dic_json_data['Max_DeltaHL'])))        #---task #4\n",
    "print('The largest price change between two days is %.2f' %(max(dic_json_data['CP_Change'])))    #---task #5\n",
    "print('The average daily trading volume during this year is %.1f' %(average(dic_json_data['Volume'])))     #---task # 6                  \n",
    "print('The median trading volume during this year is %.1f' %(median(dic_json_data['Volume'])))     #---task # 7\n",
    "#print('max volume: %.1f' %max(dic_json_data['Volume']))\n",
    "#print('min volume: %.1f' %min(dic_json_data['Volume']))"
   ]
  },
  {
   "cell_type": "code",
   "execution_count": null,
   "metadata": {},
   "outputs": [],
   "source": []
  },
  {
   "cell_type": "code",
   "execution_count": null,
   "metadata": {},
   "outputs": [],
   "source": []
  },
  {
   "cell_type": "code",
   "execution_count": null,
   "metadata": {},
   "outputs": [],
   "source": []
  },
  {
   "cell_type": "code",
   "execution_count": null,
   "metadata": {},
   "outputs": [],
   "source": []
  },
  {
   "cell_type": "code",
   "execution_count": null,
   "metadata": {},
   "outputs": [],
   "source": []
  }
 ],
 "metadata": {
  "kernelspec": {
   "display_name": "Python 3",
   "language": "python",
   "name": "python3"
  },
  "language_info": {
   "codemirror_mode": {
    "name": "ipython",
    "version": 3
   },
   "file_extension": ".py",
   "mimetype": "text/x-python",
   "name": "python",
   "nbconvert_exporter": "python",
   "pygments_lexer": "ipython3",
   "version": "3.8.5"
  }
 },
 "nbformat": 4,
 "nbformat_minor": 4
}
