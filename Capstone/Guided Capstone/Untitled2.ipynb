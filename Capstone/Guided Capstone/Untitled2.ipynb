{
 "cells": [
  {
   "cell_type": "code",
   "execution_count": 7,
   "metadata": {},
   "outputs": [],
   "source": [
    "import requests\n",
    "from library.sb_utils import save_file\n",
    "from bs4 import BeautifulSoup"
   ]
  },
  {
   "cell_type": "code",
   "execution_count": 16,
   "metadata": {},
   "outputs": [
    {
     "name": "stdout",
     "output_type": "stream",
     "text": [
      "Writing file.  \"/Users/koro/Desktop/Practice/1.pkl\"\n"
     ]
    }
   ],
   "source": [
    "url = 'https://instagram.com/s.seulee?igshid=1som9nfco9etl'\n",
    "r = requests.get(url)\n",
    "text = r.text\n",
    "html = BeautifulSoup(text)\n",
    "hhtml = html.prettify()\n",
    "ghtml = html.get_text()\n",
    "path = '/Users/koro/Desktop/Practice'\n",
    "save_file(ghtml, '1.pkl', path)"
   ]
  },
  {
   "cell_type": "code",
   "execution_count": null,
   "metadata": {},
   "outputs": [],
   "source": []
  }
 ],
 "metadata": {
  "kernelspec": {
   "display_name": "Python 3",
   "language": "python",
   "name": "python3"
  },
  "language_info": {
   "codemirror_mode": {
    "name": "ipython",
    "version": 3
   },
   "file_extension": ".py",
   "mimetype": "text/x-python",
   "name": "python",
   "nbconvert_exporter": "python",
   "pygments_lexer": "ipython3",
   "version": "3.8.5"
  }
 },
 "nbformat": 4,
 "nbformat_minor": 4
}
